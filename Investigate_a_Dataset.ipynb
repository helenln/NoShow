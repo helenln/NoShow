{
 "cells": [
  {
   "cell_type": "markdown",
   "metadata": {},
   "source": [
    "# Project: Investigate a Dataset (Replace this with something more specific!)\n",
    "\n",
    "## Table of Contents\n",
    "<ul>\n",
    "<li><a href=\"#intro\">Introduction</a></li>\n",
    "<li><a href=\"#wrangling\">Data Wrangling</a></li>\n",
    "<li><a href=\"#eda\">Exploratory Data Analysis</a></li>\n",
    "<li><a href=\"#conclusions\">Conclusions</a></li>\n",
    "</ul>"
   ]
  },
  {
   "cell_type": "markdown",
   "metadata": {
    "collapsed": true
   },
   "source": [
    "<a id='intro'></a>\n",
    "## Introduction\n",
    "\n",
    "> **Tip**: In this section of the report, provide a brief introduction to the dataset you've selected for analysis. At the end of this section, describe the questions that you plan on exploring over the course of the report. Try to build your report around the analysis of at least one dependent variable and three independent variables. If you're not sure what questions to ask, then make sure you familiarize yourself with the dataset, its variables and the dataset context for ideas of what to explore.\n",
    "\n",
    "> If you haven't yet selected and downloaded your data, make sure you do that first before coming back here. In order to work with the data in this workspace, you also need to upload it to the workspace. To do so, click on the jupyter icon in the upper left to be taken back to the workspace directory. There should be an 'Upload' button in the upper right that will let you add your data file(s) to the workspace. You can then click on the .ipynb file name to come back here.\n",
    "\n",
    "I chose to analyze the no show appointments data to determine whether or not patients show up to their appointments. The following are questions I plan on exploring: Does one gender have a higher no-show rate than the other? Is diabetes a factor in determining whether or not patients show up? Does scholarship affect appointments?"
   ]
  },
  {
   "cell_type": "code",
   "execution_count": 140,
   "metadata": {},
   "outputs": [],
   "source": [
    "#Import necessary packages\n",
    "\n",
    "import csv\n",
    "import pandas as pd\n",
    "import numpy as np\n",
    "from datetime import datetime\n",
    "import matplotlib.pyplot as plt\n",
    "% matplotlib inline\n",
    "\n",
    "\n",
    "\n"
   ]
  },
  {
   "cell_type": "markdown",
   "metadata": {},
   "source": [
    "<a id='wrangling'></a>\n",
    "## Data Wrangling\n",
    "\n",
    "> **Tip**: In this section of the report, you will load in the data, check for cleanliness, and then trim and clean your dataset for analysis. Make sure that you document your steps carefully and justify your cleaning decisions.\n",
    "\n",
    "### General Properties"
   ]
  },
  {
   "cell_type": "code",
   "execution_count": 112,
   "metadata": {},
   "outputs": [
    {
     "name": "stdout",
     "output_type": "stream",
     "text": [
      "<class 'pandas.core.frame.DataFrame'>\nRangeIndex: 110527 entries, 0 to 110526\nData columns (total 14 columns):\nPatientId         110527 non-null float64\nAppointmentID     110527 non-null int64\nGender            110527 non-null object\nScheduledDay      110527 non-null object\nAppointmentDay    110527 non-null object\nAge               110527 non-null int64\nNeighbourhood     110527 non-null object\nScholarship       110527 non-null int64\nHipertension      110527 non-null int64\nDiabetes          110527 non-null int64\nAlcoholism        110527 non-null int64\nHandcap           110527 non-null int64\nSMS_received      110527 non-null int64\nNo-show           110527 non-null object\ndtypes: float64(1), int64(8), object(5)\nmemory usage: 11.8+ MB\n"
     ]
    }
   ],
   "source": [
    "# Load your data and print out a few lines. Perform operations to inspect data\n",
    "#   types and look for instances of missing or possibly errant data.\n",
    "df = pd.read_csv('data/noshowappointments-kagglev2-may-2016.csv')\n",
    "df.info()\n"
   ]
  },
  {
   "cell_type": "markdown",
   "metadata": {},
   "source": [
    "The following steps aim to clean the data. "
   ]
  },
  {
   "cell_type": "code",
   "execution_count": 134,
   "metadata": {},
   "outputs": [
    {
     "data": {
      "text/plain": [
       "0"
      ]
     },
     "execution_count": 134,
     "metadata": {},
     "output_type": "execute_result"
    }
   ],
   "source": [
    "# Determine if there are any duplicates\n",
    "sum(df.duplicated())"
   ]
  },
  {
   "cell_type": "code",
   "execution_count": 114,
   "metadata": {},
   "outputs": [
    {
     "data": {
      "text/plain": [
       "0        2016-04-29\n1        2016-04-29\n2        2016-04-29\n3        2016-04-29\n4        2016-04-29\n5        2016-04-29\n6        2016-04-29\n7        2016-04-29\n8        2016-04-29\n9        2016-04-29\n10       2016-04-29\n11       2016-04-29\n12       2016-04-29\n13       2016-04-29\n14       2016-04-29\n15       2016-04-29\n16       2016-04-29\n17       2016-04-29\n18       2016-04-29\n19       2016-04-29\n20       2016-04-29\n21       2016-04-29\n22       2016-04-29\n23       2016-04-29\n24       2016-04-29\n25       2016-04-29\n26       2016-04-29\n27       2016-04-29\n28       2016-04-29\n29       2016-04-29\n            ...    \n110497   2016-06-01\n110498   2016-06-08\n110499   2016-06-01\n110500   2016-06-08\n110501   2016-06-01\n110502   2016-06-08\n110503   2016-06-01\n110504   2016-06-08\n110505   2016-06-01\n110506   2016-06-01\n110507   2016-06-08\n110508   2016-06-01\n110509   2016-06-08\n110510   2016-06-01\n110511   2016-06-08\n110512   2016-06-08\n110513   2016-06-08\n110514   2016-06-08\n110515   2016-06-08\n110516   2016-06-08\n110517   2016-06-07\n110518   2016-06-07\n110519   2016-06-07\n110520   2016-06-07\n110521   2016-06-07\n110522   2016-06-07\n110523   2016-06-07\n110524   2016-06-07\n110525   2016-06-07\n110526   2016-06-07\nName: AppointmentDay, Length: 110527, dtype: datetime64[ns]"
      ]
     },
     "execution_count": 114,
     "metadata": {},
     "output_type": "execute_result"
    }
   ],
   "source": [
    "# Extract date from AppointmentDay\n",
    "date = df['AppointmentDay']\n",
    "pd.to_datetime(date)"
   ]
  },
  {
   "cell_type": "markdown",
   "metadata": {},
   "source": [
    "<a id='eda'></a>\n",
    "## Exploratory Data Analysis\n",
    "\n",
    "> **Tip**: Now that you've trimmed and cleaned your data, you're ready to move on to exploration. Compute statistics and create visualizations with the goal of addressing the research questions that you posed in the Introduction section. It is recommended that you be systematic with your approach. Look at one variable at a time, and then follow it up by looking at relationships between variables.\n",
    "\n",
    "### What is the percentage of no-shows for all appointments?"
   ]
  },
  {
   "cell_type": "code",
   "execution_count": 115,
   "metadata": {},
   "outputs": [
    {
     "data": {
      "text/plain": [
       "No     88208\nYes    22319\nName: No-show, dtype: int64"
      ]
     },
     "execution_count": 115,
     "metadata": {},
     "output_type": "execute_result"
    }
   ],
   "source": [
    "# Determine \"yes\" and \"no\" totals for no-shows\n",
    "df_appt = df['No-show'].value_counts()\n",
    "df_appt\n",
    "\n",
    "\n"
   ]
  },
  {
   "cell_type": "code",
   "execution_count": 184,
   "metadata": {
    "collapsed": true
   },
   "outputs": [
    {
     "data": {
      "image/png": "[encoded data removed]",
      "text/plain": [
       "<matplotlib.figure.Figure at 0x11138d208>"
      ]
     },
     "metadata": {},
     "output_type": "display_data"
    }
   ],
   "source": [
    "No = 88208\n",
    "Yes = 22319\n",
    "\n",
    "plt.rcParams.update({'font.size': 12})\n",
    "\n",
    "plt.pie([No, Yes],\n",
    "        labels=['No', 'Yes'],\n",
    "        autopct='%1.1f%%',\n",
    "        startangle=90)\n",
    "\n",
    "plt.title('No-show Breakdown for Appointments')\n",
    "\n",
    "plt.axis('equal') \n",
    "plt.show()"
   ]
  },
  {
   "cell_type": "markdown",
   "metadata": {},
   "source": [
    "79.8% of patients showed up to their appointments, while 20.2% did not."
   ]
  },
  {
   "cell_type": "code",
   "execution_count": 117,
   "metadata": {},
   "outputs": [
    {
     "data": {
      "text/plain": [
       "0.20193255946510807"
      ]
     },
     "execution_count": 117,
     "metadata": {},
     "output_type": "execute_result"
    }
   ],
   "source": [
    "df_noshowno =  df_appt[0]\n",
    "df_noshowyes = df_appt[1]\n",
    "df_noshowtotal = df_noshowno + df_noshowyes\n",
    "df_noshowpercentage = float(df_noshowyes) / df_noshowtotal\n",
    "df_noshowpercentage"
   ]
  },
  {
   "cell_type": "markdown",
   "metadata": {},
   "source": [
    "20.2% of total apppointments resulted in a no show, while 80.0% resultedin patients showing up."
   ]
  },
  {
   "cell_type": "markdown",
   "metadata": {},
   "source": [
    "### Is one gender more likely to show up to an appointment than the other?"
   ]
  },
  {
   "cell_type": "code",
   "execution_count": 135,
   "metadata": {},
   "outputs": [
    {
     "data": {
      "text/plain": [
       "F    71840\nM    38687\nName: Gender, dtype: int64"
      ]
     },
     "execution_count": 135,
     "metadata": {},
     "output_type": "execute_result"
    }
   ],
   "source": [
    "# Determine number of appointments by gender.\n",
    "df_gender = df['Gender'].value_counts()\n",
    "df_gender\n",
    "\n"
   ]
  },
  {
   "cell_type": "code",
   "execution_count": 179,
   "metadata": {},
   "outputs": [
    {
     "data": {
      "image/png": "[encoded data removed]",
      "text/plain": [
       "<matplotlib.figure.Figure at 0x11c3bd6d8>"
      ]
     },
     "metadata": {},
     "output_type": "display_data"
    }
   ],
   "source": [
    "Female = 71840\n",
    "Male = 38687\n",
    "\n",
    "plt.rcParams.update({'font.size': 12})\n",
    "\n",
    "plt.pie([Female,Male],\n",
    "        labels=['Female', 'Male'],\n",
    "        autopct='%1.1f%%',\n",
    "        startangle=90)\n",
    "\n",
    "plt.title('Appointment Breakdown by Gender')\n",
    "\n",
    "plt.axis('equal') \n",
    "plt.show()"
   ]
  },
  {
   "cell_type": "markdown",
   "metadata": {},
   "source": [
    "Women made up the majority of total appointments at 65.0%."
   ]
  },
  {
   "cell_type": "code",
   "execution_count": 119,
   "metadata": {},
   "outputs": [
    {
     "data": {
      "text/plain": [
       "Gender  No-show\nF       No         57246\n        Yes        14594\nM       No         30962\n        Yes         7725\ndtype: int64"
      ]
     },
     "execution_count": 119,
     "metadata": {},
     "output_type": "execute_result"
    }
   ],
   "source": [
    "df.groupby(['Gender', 'No-show']).size()"
   ]
  },
  {
   "cell_type": "code",
   "execution_count": 120,
   "metadata": {},
   "outputs": [
    {
     "data": {
      "text/plain": [
       "0.20314587973273943"
      ]
     },
     "execution_count": 120,
     "metadata": {},
     "output_type": "execute_result"
    }
   ],
   "source": [
    "df_femalenoshow = 14594 / df_gender[0]\n",
    "df_femalenoshow"
   ]
  },
  {
   "cell_type": "markdown",
   "metadata": {},
   "source": [
    "Out of the total female appointments, 20.3% were no-shows."
   ]
  },
  {
   "cell_type": "code",
   "execution_count": 121,
   "metadata": {},
   "outputs": [
    {
     "data": {
      "text/plain": [
       "0.19967947889471915"
      ]
     },
     "execution_count": 121,
     "metadata": {},
     "output_type": "execute_result"
    }
   ],
   "source": [
    "df_malenoshow = 7725 / df_gender[1]\n",
    "df_malenoshow"
   ]
  },
  {
   "cell_type": "markdown",
   "metadata": {},
   "source": [
    "The male no-show rate was 20.0%."
   ]
  },
  {
   "cell_type": "code",
   "execution_count": 148,
   "metadata": {
    "collapsed": false
   },
   "outputs": [
    {
     "data": {
      "image/png": "[encoded data removed]",
      "text/plain": [
       "<matplotlib.figure.Figure at 0x11a69cc18>"
      ]
     },
     "metadata": {},
     "output_type": "display_data"
    }
   ],
   "source": [
    "plt.bar(('F','M'), [df_femalenoshow,df_malenoshow])\n",
    "plt.title('No-show Percentage by Gender')\n",
    "plt.xlabel('Gender',)\n",
    "plt.ylabel('No-show Percentage')\n",
    "plt.show()"
   ]
  },
  {
   "cell_type": "markdown",
   "metadata": {},
   "source": [
    "### What's the no-show breakdown for patients with and without Diabetes?"
   ]
  },
  {
   "cell_type": "code",
   "execution_count": 146,
   "metadata": {},
   "outputs": [
    {
     "data": {
      "text/plain": [
       "0    102584\n1      7943\nName: Diabetes, dtype: int64"
      ]
     },
     "execution_count": 146,
     "metadata": {},
     "output_type": "execute_result"
    }
   ],
   "source": [
    "df_diabetes_count = df['Diabetes'].value_counts()\n",
    "df_diabetes_count"
   ]
  },
  {
   "cell_type": "code",
   "execution_count": 180,
   "metadata": {
    "collapsed": false
   },
   "outputs": [
    {
     "data": {
      "image/png": "[encoded data removed]",
      "text/plain": [
       "<matplotlib.figure.Figure at 0x11c46e240>"
      ]
     },
     "metadata": {},
     "output_type": "display_data"
    }
   ],
   "source": [
    "No = 102584\n",
    "Yes = 7943\n",
    "\n",
    "plt.rcParams.update({'font.size': 12})\n",
    "\n",
    "plt.pie([No, Yes],\n",
    "        labels=['No', 'Yes'],\n",
    "        autopct='%1.1f%%',\n",
    "        startangle=90)\n",
    "\n",
    "plt.title('Diabetes Breakdown')\n",
    "\n",
    "plt.axis('equal') dfdfdfdfdfdfdfdf\n",
    "plt.show()"
   ]
  },
  {
   "cell_type": "markdown",
   "metadata": {},
   "source": [
    "Only 7.2% of patients had diabetes."
   ]
  },
  {
   "cell_type": "code",
   "execution_count": 185,
   "metadata": {},
   "outputs": [
    {
     "data": {
      "text/plain": [
       "<pandas.core.groupby.SeriesGroupBy object at 0x11135b278>"
      ]
     },
     "execution_count": 185,
     "metadata": {},
     "output_type": "execute_result"
    }
   ],
   "source": [
    "df_diabetes = df['Diabetes']\n",
    "df_noshow = df['No-show']\n",
    "df_diabetes.groupby(df_noshow)\n"
   ]
  },
  {
   "cell_type": "code",
   "execution_count": 141,
   "metadata": {
    "collapsed": true
   },
   "outputs": [
    {
     "data": {
      "text/plain": [
       "Diabetes  No-show\n0         No         81695\n          Yes        20889\n1         No          6513\n          Yes         1430\ndtype: int64"
      ]
     },
     "execution_count": 141,
     "metadata": {},
     "output_type": "execute_result"
    }
   ],
   "source": [
    "df.groupby(['Diabetes', 'No-show']).size()\n"
   ]
  },
  {
   "cell_type": "code",
   "execution_count": 168,
   "metadata": {},
   "outputs": [
    {
     "data": {
      "text/plain": [
       "0.18003273322422259"
      ]
     },
     "execution_count": 168,
     "metadata": {},
     "output_type": "execute_result"
    }
   ],
   "source": [
    "df_apptwithdiabetes= 1430 / df_diabetes_count[1]\n",
    "df_apptwithdiabetes"
   ]
  },
  {
   "cell_type": "markdown",
   "metadata": {},
   "source": [
    "18.0% of patients with diabetes did not show up to their appointments."
   ]
  },
  {
   "cell_type": "code",
   "execution_count": 169,
   "metadata": {},
   "outputs": [
    {
     "data": {
      "text/plain": [
       "0.20362824612025268"
      ]
     },
     "execution_count": 169,
     "metadata": {},
     "output_type": "execute_result"
    }
   ],
   "source": [
    "df_apptwithoutdiabetes= 20889 / df_diabetes_count[0]\n",
    "df_apptwithoutdiabetes"
   ]
  },
  {
   "cell_type": "markdown",
   "metadata": {},
   "source": []
  },
  {
   "cell_type": "markdown",
   "metadata": {},
   "source": [
    "### What's the percentage of appointments with scholarship?"
   ]
  },
  {
   "cell_type": "code",
   "execution_count": 136,
   "metadata": {
    "collapsed": false
   },
   "outputs": [
    {
     "data": {
      "text/plain": [
       "0    99666\n1    10861\nName: Scholarship, dtype: int64"
      ]
     },
     "execution_count": 136,
     "metadata": {},
     "output_type": "execute_result"
    }
   ],
   "source": [
    "# Determine number of appointments with and without scholarship. 0 indicates no scholarship. 1 indicates scholarship.\n",
    "df_scholarship = df['Scholarship'].value_counts()\n",
    "df_scholarship"
   ]
  },
  {
   "cell_type": "code",
   "execution_count": null,
   "metadata": {},
   "outputs": [
    {
     "data": {
      "image/png": "[encoded data removed]",
      "text/plain": [
       "<matplotlib.figure.Figure at 0x11c39cd30>"
      ]
     },
     "metadata": {},
     "output_type": "display_data"
    }
   ],
   "source": [
    "No = 99666\n",
    "Yes = 10861\n",
    "\n",
    "plt.rcParams.update({'font.size': 12})\n",
    "\n",
    "plt.pie([No, Yes],\n",
    "        labels=['No', 'Yes'],\n",
    "        autopct='%1.1f%%',\n",
    "        startangle=90)\n",
    "\n",
    "plt.title('Scholarship Breakdown for Appointments')\n",
    "\n",
    "plt.axis('equal') \n",
    "plt.show()"
   ]
  },
  {
   "cell_type": "markdown",
   "metadata": {},
   "source": [
    "Majority of appointments did not have a scholarship. Scholarship made up 9.8% of total appointments."
   ]
  },
  {
   "cell_type": "markdown",
   "metadata": {},
   "source": [
    "### Do patients with scholarship show up more than those who do not have scholarship?"
   ]
  },
  {
   "cell_type": "code",
   "execution_count": 132,
   "metadata": {
    "collapsed": false
   },
   "outputs": [
    {
     "data": {
      "text/plain": [
       "Scholarship  No-show\n0            No         79925\n             Yes        19741\n1            No          8283\n             Yes         2578\ndtype: int64"
      ]
     },
     "execution_count": 132,
     "metadata": {},
     "output_type": "execute_result"
    }
   ],
   "source": [
    "df.groupby(['Scholarship', 'No-show']).size()"
   ]
  },
  {
   "cell_type": "code",
   "execution_count": 128,
   "metadata": {},
   "outputs": [
    {
     "data": {
      "text/plain": [
       "0.23736304207715681"
      ]
     },
     "execution_count": 128,
     "metadata": {},
     "output_type": "execute_result"
    }
   ],
   "source": [
    "df_scholarshipnoshow = 2578 / df_scholarship[1]\n",
    "df_scholarshipnoshow"
   ]
  },
  {
   "cell_type": "markdown",
   "metadata": {},
   "source": [
    "23.7% of scholarship appointments were no-shows."
   ]
  },
  {
   "cell_type": "code",
   "execution_count": 129,
   "metadata": {},
   "outputs": [
    {
     "data": {
      "text/plain": [
       "0.19807155900708365"
      ]
     },
     "execution_count": 129,
     "metadata": {},
     "output_type": "execute_result"
    }
   ],
   "source": [
    "df_sansscholarshipnoshow = 19741 / df_scholarship[0]\n",
    "df_sansscholarshipnoshow"
   ]
  },
  {
   "cell_type": "markdown",
   "metadata": {},
   "source": [
    "19.8% of appointments without scholarship resulted in a no-show."
   ]
  },
  {
   "cell_type": "markdown",
   "metadata": {},
   "source": [
    "<a id='conclusions'></a>\n",
    "## Conclusions\n",
    "\n",
    "Note: The dataset only includes 2016 apppointments. The findings in this analysis do not include historical data or year-over-year trends. \n",
    "\n",
    "20.2% of total appointments resulted in a no-show, while 80.0% resulted in patients showing up. Based on these percentages, patients are highly\n",
    "likely to show up to their appointments. \n",
    "\n",
    "20.3% of female appointments resulted in a no show, while 20.0% of male appointments were no-shows. Both male and female patients have the same no-show rates which means gender does not indicate likelihood of showing up to an appointment or not.\n",
    "\n",
    "Only 7.2% of patients had diabetes. 18.0% of diabetes appointments resulted in a no-show, while 20.4% of appointments without diabetes resulted in a no-show. Diabetes appointments only have a slightly lower no-show rate. There is no clear indication that diabetes affects no-show rates.\n",
    "\n",
    "9.8% of total appointments had scholarship. 23.7% of scholarship appointments resulted in a no-show, while 19.8% of appointments without scholarship were no-shows. There is no clear indication that scholarship affects whether or not patients show up."
   ]
  },
  {
   "cell_type": "code",
   "execution_count": 186,
   "metadata": {},
   "outputs": [
    {
     "data": {
      "text/plain": [
       "0"
      ]
     },
     "execution_count": 186,
     "metadata": {},
     "output_type": "execute_result"
    }
   ],
   "source": [
    "from subprocess import call\n",
    "call(['python', '-m', 'nbconvert', 'Investigate_a_Dataset.ipynb'])"
   ]
  },
  {
   "cell_type": "code",
   "execution_count": null,
   "metadata": {},
   "outputs": [],
   "source": []
  }
 ],
 "metadata": {
  "kernelspec": {
   "display_name": "Python [default]",
   "language": "python",
   "name": "python3"
  },
  "language_info": {
   "codemirror_mode": {
    "name": "ipython",
    "version": 3
   },
   "file_extension": ".py",
   "mimetype": "text/x-python",
   "name": "python",
   "nbconvert_exporter": "python",
   "pygments_lexer": "ipython3",
   "version": "3.6.3"
  }
 },
 "nbformat": 4,
 "nbformat_minor": 2
}
